{
 "cells": [
  {
   "cell_type": "markdown",
   "id": "2f407ef5",
   "metadata": {},
   "source": [
    "# Utilizar operadores aritméticos\n",
    "Python proporciona operadores aritméticos comunes para que puedas realizar operaciones matemáticas en tu código. Estos incluyen las cuatro operaciones principales de suma, resta, multiplicación y división.\n",
    "\n",
    "Exploremos cómo podemos crear un programa que pueda calcular la distancia entre dos planetas."
   ]
  },
  {
   "cell_type": "code",
   "execution_count": 44,
   "id": "fd65e3cd",
   "metadata": {},
   "outputs": [
    {
     "data": {
      "application/vnd.jupyter.widget-view+json": {
       "model_id": "28d4811e6974405082766bd620554f1c",
       "version_major": 2,
       "version_minor": 0
      },
      "text/plain": [
       "ToggleButton(value=False, description='Medidor Astral', icon='globe', tooltip='Inicia una rutina de calculos m…"
      ]
     },
     "metadata": {},
     "output_type": "display_data"
    },
    {
     "data": {
      "application/vnd.jupyter.widget-view+json": {
       "model_id": "8a8cec58d85b40a7bbb64466bf0b876b",
       "version_major": 2,
       "version_minor": 0
      },
      "text/plain": [
       "Output(layout=Layout(border='1px solid black'))"
      ]
     },
     "metadata": {},
     "output_type": "display_data"
    }
   ],
   "source": [
    "import ipywidgets as w\n",
    "\n",
    "distanciaP = w.ToggleButton(\n",
    "    value=False,\n",
    "    description='Medidor Astral',\n",
    "    button_style='',\n",
    "    tooltip='Inicia una rutina de calculos matemáticos para medir las distancias entre 2 planetas',\n",
    "    icon='globe'\n",
    ")\n",
    "\n",
    "planeta1 = 149597870\n",
    "planeta2 = 778547200\n",
    "\n",
    "mensajeScale = w.Output(layout=w.Layout(border = '1px solid black'))\n",
    "out = w.Output()\n",
    "\n",
    "def fun(obj):\n",
    "    with mensajeScale:\n",
    "        if obj['new']:\n",
    "            distanciaP.button_style='danger'\n",
    "            distanciaP.icon='globe'\n",
    "            distanciaP.description='Apagar'\n",
    "            print(\"Distancia en millas entre la Tierra y Jupiter\")\n",
    "            print(\"##############################\")\n",
    "            print(\"La distancia entre la Tierra y el sol es de \" + str(planeta1) + \" km y la de Júpiter es de \" +  str(planeta2) + \" km. La distancia entre estos 2 planetas en millas es de \" + str(abs(planeta1-planeta2)*0.621)+\" mi\")\n",
    "            TierraMi=planeta1*0.621\n",
    "            JupiterMi=planeta2*0.621\n",
    "            print(\"La distancia en millas de la tierra al sol es de \"+ str(TierraMi) + \"mi y la de Jupiter es de \" + str(JupiterMi) + \"mi\")\n",
    "        else:\n",
    "            mensajeScale.clear_output()\n",
    "            distanciaP.button_style=''\n",
    "            distanciaP.icon='globe'\n",
    "            distanciaP.description='Medidor Astral'\n",
    "            \n",
    "distanciaP.observe(fun, 'value')\n",
    "display(distanciaP)\n",
    "display(mensajeScale)"
   ]
  },
  {
   "cell_type": "markdown",
   "id": "a2aef7bb",
   "metadata": {},
   "source": [
    "# Convierte cadenas en números y usa valores absolutos\n",
    "Para crear nuestra aplicación, queremos leer la distancia del sol para dos planetas, y luego mostrar la distancia entre los planetas. Haremos esto usando input para leer los valores, int para convertir a entero y luego abs para convertir el resultado en su valor absoluto."
   ]
  },
  {
   "cell_type": "code",
   "execution_count": 8,
   "id": "87e32146",
   "metadata": {},
   "outputs": [
    {
     "name": "stdout",
     "output_type": "stream",
     "text": [
      "Distancia en millas entre planetas\n",
      "##############################\n",
      "Ingrese las distancias en kilómetros para calular la distancia entre planetas y presione enter para continuar\n",
      "¿Cuál es la distancia del planeta 1 al Sol? \n",
      "57900000\n",
      "Usted ha introducido: 57900000km\n",
      "¿Cuál es la distancia del planeta 2 al Sol? \n",
      "108200000\n",
      "Usted ha introducido: 108200000km\n",
      "##############################\n"
     ]
    },
    {
     "data": {
      "application/vnd.jupyter.widget-view+json": {
       "model_id": "1e8bc342953643a79b4e9c1e2230ac0e",
       "version_major": 2,
       "version_minor": 0
      },
      "text/plain": [
       "ToggleButton(value=False, description='Medidor Astral', icon='globe', tooltip='Inicia una rutina de calculos m…"
      ]
     },
     "metadata": {},
     "output_type": "display_data"
    },
    {
     "data": {
      "application/vnd.jupyter.widget-view+json": {
       "model_id": "bf0827ae553a4e05a2bdb675fc27f26b",
       "version_major": 2,
       "version_minor": 0
      },
      "text/plain": [
       "Output(layout=Layout(border='1px solid black'))"
      ]
     },
     "metadata": {},
     "output_type": "display_data"
    }
   ],
   "source": [
    "import ipywidgets as w\n",
    "\n",
    "distanciaP = w.ToggleButton(\n",
    "    value=False,\n",
    "    description='Medidor Astral',\n",
    "    button_style='',\n",
    "    tooltip='Inicia una rutina de calculos matemáticos para medir las distancias entre 2 planetas',\n",
    "    icon='globe'\n",
    ")\n",
    "\n",
    "\n",
    "planeta1 = 0\n",
    "planeta2 = 0\n",
    "\n",
    "mensajeScale = w.Output(layout=w.Layout(border = '1px solid black'))\n",
    "out = w.Output()\n",
    "print(\"Distancia en millas entre planetas\")\n",
    "print(\"##############################\")\n",
    "            \n",
    "print(\"Ingrese las distancias en kilómetros para calular la distancia entre planetas y presione enter para continuar\")\n",
    "planeta1 = input(\"¿Cuál es la distancia del planeta 1 al Sol? \\n\")\n",
    "print(\"Usted ha introducido: \" + str(planeta1) + \"km\")\n",
    "planeta2 = input(\"¿Cuál es la distancia del planeta 2 al Sol? \\n\")\n",
    "print(\"Usted ha introducido: \" + str(planeta2) + \"km\")\n",
    "print(\"##############################\")\n",
    "\n",
    "planeta1 = int(planeta1)\n",
    "planeta2 = int(planeta2)\n",
    "def fun(obj):\n",
    "    with mensajeScale:\n",
    "        if obj['new']:\n",
    "            distanciaP.button_style='danger'\n",
    "            distanciaP.icon='globe'\n",
    "            distanciaP.description='Apagar'\n",
    "            planeta1Mi=planeta1*0.621\n",
    "            planeta2Mi=planeta2*0.621\n",
    "            distancia=abs(planeta1Mi-planeta2Mi)\n",
    "            print(\"La distancia en millas del planeta 1 al sol es de \"+ str(planeta1Mi) + \"mi y la del planeta 2 es de \" + str(planeta2Mi) + \"mi, por último la distancia en millas entre ellos es de \"+ str(distancia)+\"mi\")\n",
    "        else:\n",
    "            mensajeScale.clear_output()\n",
    "            distanciaP.button_style=''\n",
    "            distanciaP.icon='globe'\n",
    "            distanciaP.description='Medidor Astral'\n",
    "            \n",
    "distanciaP.observe(fun, 'value')\n",
    "display(distanciaP)\n",
    "display(mensajeScale)"
   ]
  },
  {
   "cell_type": "code",
   "execution_count": null,
   "id": "0c4e5ee2",
   "metadata": {},
   "outputs": [],
   "source": []
  }
 ],
 "metadata": {
  "kernelspec": {
   "display_name": "Python 3 (ipykernel)",
   "language": "python",
   "name": "python3"
  },
  "language_info": {
   "codemirror_mode": {
    "name": "ipython",
    "version": 3
   },
   "file_extension": ".py",
   "mimetype": "text/x-python",
   "name": "python",
   "nbconvert_exporter": "python",
   "pygments_lexer": "ipython3",
   "version": "3.10.2"
  }
 },
 "nbformat": 4,
 "nbformat_minor": 5
}
