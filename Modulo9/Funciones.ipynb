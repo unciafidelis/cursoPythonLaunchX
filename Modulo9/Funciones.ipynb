{
 "cells": [
  {
   "cell_type": "markdown",
   "id": "e410b9ad",
   "metadata": {},
   "source": [
    "# Uso de funciones en Python\n",
    "### Trabajar con argumentos en funciones\n",
    "En este ejercicio, construirás un informe de combustible que requiere información de varias ubicaciones de combustible en todo el cohete.\n",
    "\n",
    "TIP Dedica unos minutos para tratar de encontrar una solución. Luego desplázate hacia abajo hasta la parte inferior para ver si has logrado compilar el programa de acuerdo con las especificaciones\n",
    "\n",
    "Comienza por crear una función que necesite tres lecturas de combustible y devuelva un informe:"
   ]
  },
  {
   "cell_type": "code",
   "execution_count": 1,
   "id": "0951668f",
   "metadata": {},
   "outputs": [],
   "source": [
    "def reporte(LC1,LC2,LC3):\n",
    "    return print(f\"\\n Lectura de combustible \\n ################################# \\n LC1: {LC1} \\n LC2: {LC2} \\n LC3: {LC3} \\n\")\n",
    "    "
   ]
  },
  {
   "cell_type": "markdown",
   "id": "f59bd99a",
   "metadata": {},
   "source": [
    "Ahora que hemos definido la función de informes, vamos a comprobarlo. Para esta misión, los tanques no están llenos:"
   ]
  },
  {
   "cell_type": "code",
   "execution_count": 2,
   "id": "e334eded",
   "metadata": {},
   "outputs": [
    {
     "name": "stdout",
     "output_type": "stream",
     "text": [
      "\n",
      " Lectura de combustible \n",
      " ################################# \n",
      " LC1: 1600 \n",
      " LC2: 1800 \n",
      " LC3: 1600 \n",
      "\n"
     ]
    }
   ],
   "source": [
    "reporte(1600,1800,1600)"
   ]
  },
  {
   "cell_type": "markdown",
   "id": "e11cf65f",
   "metadata": {},
   "source": [
    "En lugar de simplemente crear el informe, la función también está calculando el promedio. Mejora la legibilidad extrayendo el cálculo promedio de la función en una nueva función para que el promedio se pueda hacer de forma independiente:"
   ]
  },
  {
   "cell_type": "code",
   "execution_count": 3,
   "id": "0aa41afd",
   "metadata": {},
   "outputs": [
    {
     "data": {
      "text/plain": [
       "'PT: 2000.0'"
      ]
     },
     "execution_count": 3,
     "metadata": {},
     "output_type": "execute_result"
    }
   ],
   "source": [
    "def Promedio(LC1,LC2,LC3):\n",
    "    return f\"PT: {(LC1+LC2+LC3)/3}\"\n",
    "    \n",
    "Promedio(1000,2000,3000)"
   ]
  },
  {
   "cell_type": "raw",
   "id": "0450366b",
   "metadata": {},
   "source": [
    "Ahora actualiza la función de informes pero llamando a la nueva función del promedio:"
   ]
  },
  {
   "cell_type": "code",
   "execution_count": 4,
   "id": "0476cb27",
   "metadata": {},
   "outputs": [
    {
     "name": "stdout",
     "output_type": "stream",
     "text": [
      "\n",
      " Lectura de combustible \n",
      " ################################# \n",
      "  LC1: 1200 \n",
      " LC2: 1400 \n",
      " LC3: 1800 \n",
      " PT: 1466.6666666666667\n",
      "\n",
      " Lectura de combustible \n",
      " ################################# \n",
      "  LC1: 1800 \n",
      " LC2: 1400 \n",
      " LC3: 1200 \n",
      " PT: 1466.6666666666667\n"
     ]
    }
   ],
   "source": [
    "def reporteWithP(LC1,LC2,LC3):\n",
    "    \n",
    "    return print(f\"\\n Lectura de combustible \\n ################################# \\n  LC1: {LC1} \\n LC2: {LC2} \\n LC3: {LC3} \\n {Promedio(LC1,LC2,LC3)}\")\n",
    "    \n",
    "reporteWithP(1200,1400,1800)\n",
    "\n",
    "####### O sin anidar una función con otra:\n",
    "\n",
    "def reporteP(LC1,LC2,LC3):\n",
    "    return print(f\"\\n Lectura de combustible \\n ################################# \\n  LC1: {LC1} \\n LC2: {LC2} \\n LC3: {LC3} \\n PT: {(LC1+LC2+LC3)/3}\")\n",
    "    \n",
    "reporteP(1800,1400,1200)"
   ]
  },
  {
   "cell_type": "markdown",
   "id": "50688e32",
   "metadata": {},
   "source": [
    "# Trabajo con argumentos de palabra clave\n",
    "### Trabajar con argumentos de palabras clave en funciones\n",
    "En este ejercicio, construirás un informe de cohete que requiere varias piezas de información, como el tiempo hasta el destino, el combustible a la izquierda y el nombre del destino. Comienza por crear una función que creará un informe preciso de la misión:"
   ]
  },
  {
   "cell_type": "code",
   "execution_count": 5,
   "id": "f06ef0e6",
   "metadata": {},
   "outputs": [
    {
     "name": "stdout",
     "output_type": "stream",
     "text": [
      "\n",
      " Reporte de lanzamiento \n",
      " ################################# \n",
      "  Hora de prelanzamiento: 1200 \n",
      " Tiempo estimado de vuelo: 200 \n",
      " Destino: Marte \n",
      " Combustible en tanque externo: 1000000 \n",
      " Combustible en tanque interno:300000 \n"
     ]
    }
   ],
   "source": [
    "def reporteLanzamiento(horaPrelanzamiento, tiempoVuelo, destino, tanqueExterno, tanqueInterno):\n",
    "    return print(f\"\\n Reporte de lanzamiento \\n ################################# \\n  Hora de prelanzamiento: {horaPrelanzamiento} \\n Tiempo estimado de vuelo: {tiempoVuelo} \\n Destino: {destino} \\n Combustible en tanque externo: {tanqueExterno} \\n Combustible en tanque interno:{tanqueInterno} \")\n",
    "\n",
    "reporteLanzamiento(1200, 200, \"Marte\", 1000000, 300000)"
   ]
  },
  {
   "cell_type": "markdown",
   "id": "675dd880",
   "metadata": {},
   "source": [
    "<blockquote>La función es problemática porque no se puede adaptar para minutos adicionales o tanques adicionales de combustible. Hazlo más flexible permitiendo cualquier número de pasos basados en el tiempo y cualquier número de tanques. En lugar de usar *args y **kwargs, aprovecha el hecho de que puedes usar cualquier nombre que desees. Asegurate que la función sea más legible mediante el uso de nombres de variables que están asociados con las entradas, como *minutes y **fuel_reservoirs:</blockquote>"
   ]
  },
  {
   "cell_type": "code",
   "execution_count": 6,
   "id": "a866c0b1",
   "metadata": {},
   "outputs": [],
   "source": [
    "def reporteLanzamiento(destino, *minutes, **fuel_reservoirs):\n",
    "        return print(f'\\n Reporte de lanzamiento \\n ################################# \\n  Destino: {destino} \\n Reservas de combustible: {sum(fuel_reservoirs.values())} \\n El tiempo para lanzamiento es de {sum(minutes)} minutos')\n",
    "    "
   ]
  },
  {
   "cell_type": "code",
   "execution_count": 7,
   "id": "4e65418e",
   "metadata": {},
   "outputs": [
    {
     "name": "stdout",
     "output_type": "stream",
     "text": [
      "\n",
      " Reporte de lanzamiento \n",
      " ################################# \n",
      "  Destino: Marte \n",
      " Reservas de combustible: 150000 \n",
      " El tiempo para lanzamiento es de 2700 minutos\n"
     ]
    }
   ],
   "source": [
    "reporteLanzamiento(\"Marte\", 1200,1500, tanque1 = 80000,tanque2 = 70000)"
   ]
  },
  {
   "cell_type": "markdown",
   "id": "ff0f8134",
   "metadata": {},
   "source": [
    "Debido a que el combustible que queda en los tanques es específico de cada tanque, actualiza la función para usar el nombre de cada tanque en el informe:"
   ]
  },
  {
   "cell_type": "code",
   "execution_count": 14,
   "id": "c4bb5268",
   "metadata": {},
   "outputs": [
    {
     "name": "stdout",
     "output_type": "stream",
     "text": [
      "\n",
      " Reporte de lanzamiento \n",
      " ################################# \n",
      "  Destino: Estación espacial \n",
      " Reservas de combustible: {'Tanque_Externo': 1200000, 'Tanque_interno': 130000} \n",
      " El tiempo para lanzamiento es de 7000 minutos\n"
     ]
    }
   ],
   "source": [
    "def reporteLanzamientoF(destino, *minutes, **fuel_reservoirs):\n",
    "        return print(f'\\n Reporte de lanzamiento \\n ################################# \\n  Destino: {destino} \\n Reservas de combustible: {fuel_reservoirs} \\n El tiempo para lanzamiento es de {sum(minutes)} minutos')\n",
    "    \n",
    "reporteLanzamientoF(\"Estación espacial\",4000,2000,1000,Tanque_Externo=1200000, Tanque_interno=130000)\n",
    "    "
   ]
  },
  {
   "cell_type": "code",
   "execution_count": null,
   "id": "1bbb3606",
   "metadata": {},
   "outputs": [],
   "source": []
  }
 ],
 "metadata": {
  "kernelspec": {
   "display_name": "Python 3 (ipykernel)",
   "language": "python",
   "name": "python3"
  },
  "language_info": {
   "codemirror_mode": {
    "name": "ipython",
    "version": 3
   },
   "file_extension": ".py",
   "mimetype": "text/x-python",
   "name": "python",
   "nbconvert_exporter": "python",
   "pygments_lexer": "ipython3",
   "version": "3.10.2"
  }
 },
 "nbformat": 4,
 "nbformat_minor": 5
}
