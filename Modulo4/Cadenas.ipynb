{
 "cells": [
  {
   "cell_type": "markdown",
   "id": "35e84eb0",
   "metadata": {},
   "source": [
    "## Transformar cadenas\n",
    "En este ejercicio, usarás métodos de cadena para modificar el texto con hechos sobre la Luna y luego extraerás información para crear un breve resumen."
   ]
  },
  {
   "cell_type": "code",
   "execution_count": 25,
   "id": "931f8fe1",
   "metadata": {},
   "outputs": [
    {
     "data": {
      "application/vnd.jupyter.widget-view+json": {
       "model_id": "d6d8c340e7f3490fadd8065c97a2bd0e",
       "version_major": 2,
       "version_minor": 0
      },
      "text/plain": [
       "ToggleButton(value=False, description='Transformar', icon='list', tooltip='Inicia transformación de una cadena…"
      ]
     },
     "metadata": {},
     "output_type": "display_data"
    },
    {
     "data": {
      "application/vnd.jupyter.widget-view+json": {
       "model_id": "ad5b8b86114545d3b12d28917d434511",
       "version_major": 2,
       "version_minor": 0
      },
      "text/plain": [
       "Output(layout=Layout(border='1px solid black'))"
      ]
     },
     "metadata": {},
     "output_type": "display_data"
    }
   ],
   "source": [
    "import ipywidgets as w\n",
    "\n",
    "cadenator = w.ToggleButton(\n",
    "    value=False,\n",
    "    description='Transformar',\n",
    "    button_style='',\n",
    "    tooltip='Inicia transformación de una cadena dada',\n",
    "    icon='list'\n",
    ")\n",
    "\n",
    "text = \"\"\"Interesting facts about the Moon. The Moon is Earth's only satellite. There are several interesting facts about the Moon and how it affects life here on Earth. \n",
    "On average, the Moon moves 4cm away from the Earth every year. This yearly drift is not significant enough to cause immediate effects on Earth. The highest daylight temperature of the Moon is 127 C.\"\"\"\n",
    "\n",
    "mensajeScanner = w.Output(layout=w.Layout(border = '1px solid black'))\n",
    "out = w.Output()\n",
    "\n",
    "def fun(obj):\n",
    "    with mensajeScanner:\n",
    "        if obj['new']:\n",
    "            cadenator.button_style='danger'\n",
    "            cadenator.icon='list'\n",
    "            cadenator.description='Desactivar'\n",
    "            #Primero, divide el texto en cada oración para trabajar con su contenido:\n",
    "            oraciones = text.split('. ')\n",
    "            print(oraciones)\n",
    "            #Ahora, define algunas palabras clave para búsqueda que te ayudarán \n",
    "            #a determinar si una oración contiene un hecho.\n",
    "            keyWords = [\"average\", \"significant\", \"highest\"]\n",
    "            #Cre un bucle para imprimir solo datos sobre la Luna que estén relacionados \n",
    "            #con las palabras clave definidas anteriormente:\n",
    "            oracionWithKey = \"\"\n",
    "            for fact in oraciones:\n",
    "                for k in keyWords:\n",
    "                    if k in fact:\n",
    "                        oracionWithKey = oracionWithKey+\". \" + fact\n",
    "                        print(fact)  \n",
    "            oracionWithKey = oracionWithKey.split('. '); \n",
    "            oracionWithMoon = \"\"\n",
    "            #Cre un bucle para imprimir solo datos sobre la Luna que estén relacionados \n",
    "            #con las palabras clave definidas anteriormente:\n",
    "            for includeMoon in oracionWithKey:\n",
    "                if \"Moon\" in includeMoon:\n",
    "                    print(includeMoon)\n",
    "                    oracionWithMoon = oracionWithMoon + includeMoon\n",
    "            #Finalmente, actualiza el bucle(ciclo) para cambiar C a Celsius:  \n",
    "            oracionWithMoonC = str(oracionWithMoon).replace('C', 'Celsius')\n",
    "            print(oracionWithMoonC)\n",
    "            \n",
    "        else:\n",
    "            mensajeScanner.clear_output()\n",
    "            cadenator.button_style=''\n",
    "            cadenator.icon='list'\n",
    "            cadenator.description='Transformar'\n",
    "            \n",
    "cadenator.observe(fun, 'value')\n",
    "display(cadenator)\n",
    "display(mensajeScanner)"
   ]
  },
  {
   "cell_type": "markdown",
   "id": "6a63ce13",
   "metadata": {},
   "source": [
    "# Formateando Cadenas\n",
    "En este ejercicio, se utilizan variables que contienen datos clave sobre la gravedad en varias lunas y luego se utilizan para dar formato e imprimir la información."
   ]
  },
  {
   "cell_type": "code",
   "execution_count": 83,
   "id": "0c1b7173",
   "metadata": {},
   "outputs": [
    {
     "data": {
      "application/vnd.jupyter.widget-view+json": {
       "model_id": "955b4e4dd9fb4472a434a0e628a6ca48",
       "version_major": 2,
       "version_minor": 0
      },
      "text/plain": [
       "ToggleButton(value=False, description='Transformar', icon='list', tooltip='Inicia transformación de una cadena…"
      ]
     },
     "metadata": {},
     "output_type": "display_data"
    },
    {
     "data": {
      "application/vnd.jupyter.widget-view+json": {
       "model_id": "c24f404eb5734890b3a49a4a7978a659",
       "version_major": 2,
       "version_minor": 0
      },
      "text/plain": [
       "Output(layout=Layout(border='1px solid black'))"
      ]
     },
     "metadata": {},
     "output_type": "display_data"
    }
   ],
   "source": [
    "import ipywidgets as w\n",
    "\n",
    "cadenator2 = w.ToggleButton(\n",
    "    value=False,\n",
    "    description='Transformar',\n",
    "    button_style='',\n",
    "    tooltip='Inicia transformación de una cadena dada',\n",
    "    icon='list'\n",
    ")\n",
    "\n",
    "mensajeScanner = w.Output(layout=w.Layout(border = '1px solid black'))\n",
    "out = w.Output()\n",
    "\n",
    "def fun(obj):\n",
    "    with mensajeScanner:\n",
    "        if obj['new']:\n",
    "            cadenator2.button_style='danger'\n",
    "            cadenator2.icon='list'\n",
    "            cadenator2.description='Desactivar'\n",
    "            nombre = \"Moon\"\n",
    "            gravedad = 0.00162 # in kms\n",
    "            planeta = \"Earth\"\n",
    "            #Primero, crea un título para el texto. \n",
    "            #Debido a que este texto trata sobre la gravedad en la Tierra y la Luna, \n",
    "            #úsalo para crear un título significativo. Utiliza las variables en lugar de escribir.\n",
    "            titulo = \"\"\"Gravedad: Correlación perpetua entre el planeta %s y su luna %s\"\"\" %(planeta, nombre) \n",
    "            #Ahora crea una plantilla de cadena multilínea para contener el resto de la información. \n",
    "            #En lugar de usar kilómetros, debes convertir la distancia a metros multiplicando por 1,000.\n",
    "            guiones = \"________________________________________________________________\"\n",
    "            gravedadMts = gravedad * 1000\n",
    "            #Finalmente, usa ambas variables para unir el título y los hechos.\n",
    "            template = \"\"\"%s \\n %s \\n Nombre:%s \\n Gravedad:%s \\n Planeta:%s \\n\"\"\" %(titulo, guiones, nombre, gravedadMts, planeta)\n",
    "            print(template)\n",
    "            #Ahora usa información de una luna diferente para ver si la plantilla todavía funciona.\n",
    "            planeta = \"Marte\"\n",
    "            gravedad  = 0.00143\n",
    "            nombre = \"Ganímedes\"\n",
    "            print(template)\n",
    "            #La salida no muestra información sobre Marte. Todavía muestra información sobre la Luna. \n",
    "            #Esto sucede porque las cadenas f están ansiosas en su evaluación, por lo que las variables \n",
    "            #una vez asignadas no se pueden reasignar. Para evitar este problema, vuelva a hacer la plantilla \n",
    "            #para utilizar .format():\n",
    "            titulo = \"\"\"Gravedad: Correlación perpetua entre el planeta %s y su luna %s\"\"\" %(planeta, nombre) \n",
    "            gravedad = gravedad * 1000\n",
    "            template2 = \"\"\"%s \\n %s \\n Nombre:%s \\n Gravedad:%s \\n Planeta:%s \\n\"\"\" %(titulo, guiones, nombre, gravedad, planeta)\n",
    "            print(template2.format(titulo=titulo, guiones=guiones, nombre=nombre, gravedad=gravedad, planeta=planeta))\n",
    "            #Debido a que .format() no permite expresiones, la gravedad en Ganímedes es incorrecta. \n",
    "            #Asegúrese de que la operación se realiza fuera de la plantilla de formato e imprima de nuevo \n",
    "            #para ver el resultado de trabajo.\n",
    "            #El cálculo de gravedad en mts, se colocó antes de la primera impresión del segundo template \n",
    "            #ya que persiste el valor de gravedad original y no admite el nuevo al momento de la inserción \n",
    "            #en el format()\n",
    "        else:\n",
    "            mensajeScanner.clear_output()\n",
    "            cadenator2.button_style=''\n",
    "            cadenator2.icon='list'\n",
    "            cadenator2.description='Transformar'\n",
    "            \n",
    "cadenator2.observe(fun, 'value')\n",
    "display(cadenator2)\n",
    "display(mensajeScanner)"
   ]
  },
  {
   "cell_type": "code",
   "execution_count": null,
   "id": "d2c377e5",
   "metadata": {},
   "outputs": [],
   "source": []
  }
 ],
 "metadata": {
  "kernelspec": {
   "display_name": "Python 3 (ipykernel)",
   "language": "python",
   "name": "python3"
  },
  "language_info": {
   "codemirror_mode": {
    "name": "ipython",
    "version": 3
   },
   "file_extension": ".py",
   "mimetype": "text/x-python",
   "name": "python",
   "nbconvert_exporter": "python",
   "pygments_lexer": "ipython3",
   "version": "3.10.2"
  }
 },
 "nbformat": 4,
 "nbformat_minor": 5
}
