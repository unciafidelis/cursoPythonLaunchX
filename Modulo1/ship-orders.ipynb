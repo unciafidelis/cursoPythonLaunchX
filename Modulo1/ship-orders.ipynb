{
 "cells": [
  {
   "cell_type": "markdown",
   "id": "1119b561",
   "metadata": {},
   "source": [
    "## Primera orden\n",
    "\n",
    "Nuestro Oficial superior nos pide se construya un programa que muestre la fecha y sea instalado en la computadora de la nave."
   ]
  },
  {
   "cell_type": "code",
   "execution_count": 1,
   "id": "1a6dff5c",
   "metadata": {},
   "outputs": [
    {
     "data": {
      "application/vnd.jupyter.widget-view+json": {
       "model_id": "8b8ffd47e17b4659bafbe520008a87d6",
       "version_major": 2,
       "version_minor": 0
      },
      "text/plain": [
       "ToggleButton(value=False, description='Encender', icon='toggle-off', tooltip='Inicia programa para obtención d…"
      ]
     },
     "metadata": {},
     "output_type": "display_data"
    },
    {
     "data": {
      "application/vnd.jupyter.widget-view+json": {
       "model_id": "ce23d8ab9065438c8e3a9aa96c72ac11",
       "version_major": 2,
       "version_minor": 0
      },
      "text/plain": [
       "Output()"
      ]
     },
     "metadata": {},
     "output_type": "display_data"
    }
   ],
   "source": [
    "from datetime import date\n",
    "import ipywidgets as w\n",
    "\n",
    "interruptor = w.ToggleButton(\n",
    "    value=False,\n",
    "    description='Encender',\n",
    "    button_style='',\n",
    "    tooltip='Inicia programa para obtención de fecha',\n",
    "    icon='toggle-off'\n",
    ")\n",
    "\n",
    "output = w.Output()\n",
    "\n",
    "display(interruptor, output)\n",
    "\n",
    "def encendido(siono):\n",
    "    with output:\n",
    "        if siono['new'] == True:\n",
    "            display('¡Oficial superior!, la fecha de hoy es : ' + str(date.today())) \n",
    "            interruptor.button_style='success'\n",
    "            interruptor.icon='toggle-on'\n",
    "            interruptor.description='Apagar'\n",
    "        else:   \n",
    "            output.clear_output()\n",
    "            interruptor.button_style=''\n",
    "            interruptor.icon='toggle-off'\n",
    "            interruptor.description='Encender'\n",
    "\n",
    "interruptor.observe(encendido, names='value')\n",
    "\n",
    "\n",
    "\n",
    "\n",
    "\n",
    "\n",
    "\n"
   ]
  },
  {
   "cell_type": "markdown",
   "id": "d0bc9506",
   "metadata": {},
   "source": [
    "## Segunda orden\n",
    "\n",
    "Nuestro Oficial superior nos ha pedido un programa de conversión entre parsecs y años luz."
   ]
  },
  {
   "cell_type": "code",
   "execution_count": 10,
   "id": "72b7679f",
   "metadata": {},
   "outputs": [
    {
     "name": "stdout",
     "output_type": "stream",
     "text": [
      "¡Bienvenido Oficial superior!\n",
      "##############################\n",
      "Actualmente nos encontramos a 11 parsecs de nuestro siguiente destino, eso es 35.877159999999996 años luz\n",
      "Si desea utilizar nuestro nuevo convertidor ingrese los parsecs a convertir:\n",
      "Usted ha introducido: 20 parsecs\n",
      "Presione enter y su interruptor estará listo para iniciar el convertidor\n"
     ]
    },
    {
     "data": {
      "application/vnd.jupyter.widget-view+json": {
       "model_id": "0b5d40c6650c41ac9d4a333038179d30",
       "version_major": 2,
       "version_minor": 0
      },
      "text/plain": [
       "ToggleButton(value=False, description='Iniciar convertidor', icon='bolt', tooltip='Inicia secuencia de convers…"
      ]
     },
     "metadata": {},
     "output_type": "display_data"
    },
    {
     "data": {
      "application/vnd.jupyter.widget-view+json": {
       "model_id": "14734fa42fc7431fa50b136f3bcd1c3b",
       "version_major": 2,
       "version_minor": 0
      },
      "text/plain": [
       "Output(layout=Layout(border='1px solid black'))"
      ]
     },
     "metadata": {},
     "output_type": "display_data"
    }
   ],
   "source": [
    "import ipywidgets as w\n",
    "from subprocess import call\n",
    "convertidor = w.ToggleButton(\n",
    "    value=False,\n",
    "    description='Iniciar convertidor',\n",
    "    button_style='',\n",
    "    tooltip='Inicia secuencia de conversión de unidades de parsec a años luz',\n",
    "    icon='bolt'\n",
    ")\n",
    "\n",
    "parsecs = 11\n",
    "equivalencia = 3.26156\n",
    "\n",
    "print(\"¡Bienvenido Oficial superior!\")\n",
    "print(\"##############################\")\n",
    "print(\"Actualmente nos encontramos a \" + str(parsecs) + \" parsecs de nuestro siguiente destino, eso es \" +  str(float(parsecs) * equivalencia) + \" años luz\")\n",
    "print(\"Si desea utilizar nuestro nuevo convertidor ingrese los parsecs a convertir:\")\n",
    "parsecs = input(\"Introduzca el número de parsecs y presione enter\")\n",
    "print(\"Usted ha introducido: \" + str(parsecs) + \" parsecs\")\n",
    "print(\"Presione enter y su interruptor estará listo para iniciar el convertidor\")\n",
    "\n",
    "conversionPtoL=float(parsecs)* equivalencia\n",
    "\n",
    "mensajeConversion = w.Output(layout=w.Layout(border = '1px solid black'))\n",
    "output = w.Output()\n",
    "\n",
    "def fun(obj):\n",
    "    with mensajeConversion:\n",
    "        if obj['new']:\n",
    "            display(\"La conversión de parsecs a años luz que busca es: \" + str(conversion)) \n",
    "            convertidor.button_style='success'\n",
    "            convertidor.icon='bolt'\n",
    "            convertidor.description='Apagar convertidor'\n",
    "        else:\n",
    "            mensajeConversion.clear_output()\n",
    "            convertidor.button_style=''\n",
    "            convertidor.icon='bolt'\n",
    "            convertidor.description='Iniciar convertidor'\n",
    "            \n",
    "convertidor.observe(fun, 'value')\n",
    "display(convertidor)\n",
    "display(mensajeConversion)"
   ]
  },
  {
   "cell_type": "code",
   "execution_count": null,
   "id": "4f940877",
   "metadata": {},
   "outputs": [],
   "source": []
  }
 ],
 "metadata": {
  "kernelspec": {
   "display_name": "Python 3 (ipykernel)",
   "language": "python",
   "name": "python3"
  },
  "language_info": {
   "codemirror_mode": {
    "name": "ipython",
    "version": 3
   },
   "file_extension": ".py",
   "mimetype": "text/x-python",
   "name": "python",
   "nbconvert_exporter": "python",
   "pygments_lexer": "ipython3",
   "version": "3.10.2"
  }
 },
 "nbformat": 4,
 "nbformat_minor": 5
}
