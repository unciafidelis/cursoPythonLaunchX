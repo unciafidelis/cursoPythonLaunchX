{
 "cells": [
  {
   "cell_type": "markdown",
   "id": "13f3f4ac",
   "metadata": {},
   "source": [
    "# Crear y usar listas de Python\n",
    "Usar listas para almacenar nombres de planetas\n"
   ]
  },
  {
   "cell_type": "code",
   "execution_count": 8,
   "id": "48c2b338",
   "metadata": {},
   "outputs": [],
   "source": [
    "planets = ['Mercurio', 'Venus', 'Tierra', 'Marte', 'Jupiter', 'Saturno', 'Urano', 'Neptuno']"
   ]
  },
  {
   "cell_type": "markdown",
   "id": "862ffd4c",
   "metadata": {},
   "source": [
    "Agrega a Plutón a la lista que creaste. Luego muestra tanto el número de planetas como el último planeta de la lista."
   ]
  },
  {
   "cell_type": "code",
   "execution_count": 9,
   "id": "51718933",
   "metadata": {},
   "outputs": [
    {
     "name": "stdout",
     "output_type": "stream",
     "text": [
      "['Mercurio', 'Venus', 'Tierra', 'Marte', 'Jupiter', 'Saturno', 'Urano', 'Neptuno', 'Plutón']\n",
      "El último planeta es Plutón\n"
     ]
    }
   ],
   "source": [
    "planets.append('Plutón')\n",
    "print(planets)\n",
    "print(\"El último planeta es \" + planets[-1])"
   ]
  },
  {
   "cell_type": "markdown",
   "id": "ff08ceeb",
   "metadata": {},
   "source": [
    "# Trabajando con datos de una lista\n",
    "Usar slices para recuperar partes de una lista"
   ]
  },
  {
   "cell_type": "code",
   "execution_count": 10,
   "id": "c13b12d4",
   "metadata": {},
   "outputs": [],
   "source": [
    "# Lista de planetas\n",
    "planets = ['Mercurio', 'Venus', 'Tierra', 'Marte', 'Jupiter', 'Saturno', 'Urano', 'Neptuno']"
   ]
  },
  {
   "cell_type": "markdown",
   "id": "f45d2a23",
   "metadata": {},
   "source": [
    "# Solicita al usuario el nombre de un planeta\n",
    "A continuación, agrega el código para solicitar al usuario un nombre. Debido a que las cadenas distinguen entre mayúsculas y minúsculas en Python, pídale al usuario que use una letra mayúscula para comenzar el nombre del planeta."
   ]
  },
  {
   "cell_type": "code",
   "execution_count": 11,
   "id": "73ca8b0a",
   "metadata": {},
   "outputs": [],
   "source": [
    "nombre = input(\"Introduzca el nombre de un planeta. El nombre debe empezar con una letra mayúscula: \\n\")"
   ]
  },
  {
   "cell_type": "markdown",
   "id": "8af8aadb",
   "metadata": {},
   "source": [
    "# Encuentra el planeta en la lista\n",
    "Para determinar qué planetas están más cerca que el que ingresó el usuario, debes encontrar dónde está el planeta en la lista. Puedes utilizar index para realizar esta operación. Agrega el código para encontrar el índice del planeta."
   ]
  },
  {
   "cell_type": "code",
   "execution_count": 12,
   "id": "272aabaa",
   "metadata": {},
   "outputs": [
    {
     "name": "stdout",
     "output_type": "stream",
     "text": [
      "Los planetas más cercanos a Tierra son Venus y Marte\n"
     ]
    }
   ],
   "source": [
    "pIndex = planets.index(nombre)\n",
    "if pIndex == 0:\n",
    "    print(\"El planeta más cercano a \" + str(nombre) + \" es \" + planets[1])\n",
    "elif pIndex == planets.index(planets[-1]):\n",
    "    print(\"El planeta más cercano a \" + str(nombre) + \" es \" + planets[pIndex-1])\n",
    "else:\n",
    "    print(\"Los planetas más cercanos a \" + str(nombre) + \" son \" + planets[pIndex-1] + \" y \" + planets[pIndex+1])\n"
   ]
  },
  {
   "cell_type": "markdown",
   "id": "b367d701",
   "metadata": {},
   "source": [
    "# Mostrar planetas más cercanos al sol que el que el usuario ingresó\n",
    "Con el índice determinado, ahora puedes agregar el código para mostrar los planetas más cercanos al sol."
   ]
  },
  {
   "cell_type": "code",
   "execution_count": 13,
   "id": "d7ec8337",
   "metadata": {},
   "outputs": [
    {
     "name": "stdout",
     "output_type": "stream",
     "text": [
      "Los planetas más cercanos al Sol son Tierra, Venus y Marte\n"
     ]
    }
   ],
   "source": [
    "pIndex = planets.index(nombre)\n",
    "solClose = len(planets)/2\n",
    "if pIndex == 0:\n",
    "    print(\"Los planetas más cercanos al Sol son \" + str(nombre) + \" y \" + planets[1])\n",
    "elif pIndex < solClose:\n",
    "    print(\"Los planetas más cercanos al Sol son \" + str(nombre) + \", \" + planets[pIndex-1] + \" y \" + planets[pIndex+1])\n",
    "else:\n",
    "    print(\"El planeta insertado esta muy alejado al sol\")\n",
    "    \n",
    "    \n",
    "    \n",
    "    "
   ]
  },
  {
   "cell_type": "markdown",
   "id": "df1dc378",
   "metadata": {},
   "source": [
    "# Mostrar planetas más alejados del sol que el que el usuario ingresó\n",
    "Puedes usar el mismo índice para mostrar planetas más alejados del sol. Sin embargo, recuerda que el índice inicial se incluye cuando usas un slice. Como resultado, tendrás que agregar 1 al valor. Agrega el código para mostrar los planetas más alejados del sol."
   ]
  },
  {
   "cell_type": "code",
   "execution_count": 14,
   "id": "4dd1d7ea",
   "metadata": {},
   "outputs": [
    {
     "name": "stdout",
     "output_type": "stream",
     "text": [
      "El planeta insertado esta muy cercano al sol\n"
     ]
    }
   ],
   "source": [
    "pIndex = planets.index(nombre)\n",
    "solFar = len(planets)/2\n",
    "if pIndex == planets.index(planets[-1]):\n",
    "    print(\"Los planetas más alejados al Sol son \" + str(nombre) + \" y \" + planets[-2])\n",
    "elif pIndex > solFar:\n",
    "    print(\"Los planetas más alejados al Sol son \" + str(nombre) + \", \" + planets[pIndex-1] + \" y \" + planets[pIndex+1])\n",
    "elif pIndex == solFar:\n",
    "    print(\"Los planetas más alejados al Sol son \" + str(nombre) + \" y \" + planets[pIndex+1])\n",
    "else:\n",
    "    print(\"El planeta insertado esta muy cercano al sol\")"
   ]
  }
 ],
 "metadata": {
  "kernelspec": {
   "display_name": "Python 3 (ipykernel)",
   "language": "python",
   "name": "python3"
  },
  "language_info": {
   "codemirror_mode": {
    "name": "ipython",
    "version": 3
   },
   "file_extension": ".py",
   "mimetype": "text/x-python",
   "name": "python",
   "nbconvert_exporter": "python",
   "pygments_lexer": "ipython3",
   "version": "3.10.2"
  }
 },
 "nbformat": 4,
 "nbformat_minor": 5
}
