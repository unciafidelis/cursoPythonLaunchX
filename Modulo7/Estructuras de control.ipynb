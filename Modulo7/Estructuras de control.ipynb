{
 "cells": [
  {
   "cell_type": "markdown",
   "id": "1ffa560c",
   "metadata": {},
   "source": [
    "# Creación de un bucle \"while\"\n",
    "En este ejercicio, estás creando una aplicación que solicita a un usuario que ingrese una lista de planetas. En un ejercicio posterior, agregarás código que muestre la lista. Por ahora, crearás solo el código que solicita al usuario la lista de planetas."
   ]
  },
  {
   "cell_type": "markdown",
   "id": "ded6a4e6",
   "metadata": {},
   "source": [
    "Comienza agregando dos variables, una para la entrada del usuario, con el nombre new_planet, y otra variable para la lista de planetas, denominada planets.\n"
   ]
  },
  {
   "cell_type": "code",
   "execution_count": 1,
   "id": "bfc00d16",
   "metadata": {},
   "outputs": [],
   "source": [
    "new_planet = \"\"\n",
    "planets=[]"
   ]
  },
  {
   "cell_type": "markdown",
   "id": "d5e56072",
   "metadata": {},
   "source": [
    "# Crea un ciclo while\n",
    "Comenzando con las variables que acabas de crear, crearás un ciclo while. El ciclo while se ejecutará mientras el new_planet no sea igual a la palabra 'done'.\n",
    "\n",
    "Dentro del ciclo, comprobarás si la variable new_planet contiene un valor, que debería ser el nombre de un planeta. Esta es una forma rápida de ver si el usuario ha introducido un valor. Si lo han hecho, tu código agregará (append) ese valor a la variable planets.\n",
    "\n",
    "Finalmente, usarás input para solicitar al usuario que ingrese un nuevo nombre de planeta o que escriba done si ha terminado de ingresar nombres de planeta. Almacenará el valor de input en la variable new_planet."
   ]
  },
  {
   "cell_type": "code",
   "execution_count": 3,
   "id": "7c6a06eb",
   "metadata": {},
   "outputs": [
    {
     "name": "stdout",
     "output_type": "stream",
     "text": [
      "Ingresa un nombre de planeta con la inicial mayúscula o escribe la palabra \"done\" para finalizarMercurio\n",
      "Ingresa un nombre de planeta con la inicial mayúscula o escribe la palabra \"done\" para finalizarVenus\n",
      "Ingresa un nombre de planeta con la inicial mayúscula o escribe la palabra \"done\" para finalizarTierra\n",
      "Ingresa un nombre de planeta con la inicial mayúscula o escribe la palabra \"done\" para finalizarMarte\n",
      "Ingresa un nombre de planeta con la inicial mayúscula o escribe la palabra \"done\" para finalizarJupiter\n",
      "Ingresa un nombre de planeta con la inicial mayúscula o escribe la palabra \"done\" para finalizarSaturno\n",
      "Ingresa un nombre de planeta con la inicial mayúscula o escribe la palabra \"done\" para finalizarUrano\n",
      "Ingresa un nombre de planeta con la inicial mayúscula o escribe la palabra \"done\" para finalizarNeptuno\n",
      "Ingresa un nombre de planeta con la inicial mayúscula o escribe la palabra \"done\" para finalizardone\n"
     ]
    }
   ],
   "source": [
    "while new_planet.lower() != 'done':\n",
    "    new_planet = input('Ingresa un nombre de planeta con la inicial mayúscula o escribe la palabra \"done\" para finalizar')\n",
    "    if (new_planet != \"done\"):\n",
    "        planets.append(new_planet)"
   ]
  },
  {
   "cell_type": "markdown",
   "id": "f0be389e",
   "metadata": {},
   "source": [
    "# Creación de un ciclo \"for\"\n",
    "Ciclo para una lista\n",
    "En el ejercicio anterior, creaste código para solicitar a los usuarios que introduzcan una lista de nombres de planetas. En este ejercicio, completarás la aplicación escribiendo código que muestre los nombres de esos planetas."
   ]
  },
  {
   "cell_type": "code",
   "execution_count": 6,
   "id": "6936a3be",
   "metadata": {},
   "outputs": [
    {
     "name": "stdout",
     "output_type": "stream",
     "text": [
      "Mercurio\n",
      "Venus\n",
      "Tierra\n",
      "Marte\n",
      "Jupiter\n",
      "Saturno\n",
      "Urano\n",
      "Neptuno\n"
     ]
    }
   ],
   "source": [
    "for p in planets: \n",
    "    print(p)"
   ]
  },
  {
   "cell_type": "code",
   "execution_count": null,
   "id": "db03aaf1",
   "metadata": {},
   "outputs": [],
   "source": []
  }
 ],
 "metadata": {
  "kernelspec": {
   "display_name": "Python 3 (ipykernel)",
   "language": "python",
   "name": "python3"
  },
  "language_info": {
   "codemirror_mode": {
    "name": "ipython",
    "version": 3
   },
   "file_extension": ".py",
   "mimetype": "text/x-python",
   "name": "python",
   "nbconvert_exporter": "python",
   "pygments_lexer": "ipython3",
   "version": "3.10.2"
  }
 },
 "nbformat": 4,
 "nbformat_minor": 5
}
