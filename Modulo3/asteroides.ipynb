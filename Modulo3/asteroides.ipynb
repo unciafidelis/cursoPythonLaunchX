{
 "cells": [
  {
   "cell_type": "markdown",
   "id": "21985f27",
   "metadata": {},
   "source": [
    "## Advertencia de asteroides\n",
    "Si un asteroide se acerca a la tierra demasiado rápido, ¡¿merece una advertencia no lo crees?!\n",
    "LaunchX nos pide construir un programa que imprima una advertencia si la velocidad de un asteroide supera los 25 kilometros por segundo (km/s) y así alertar a la población.\n"
   ]
  },
  {
   "cell_type": "code",
   "execution_count": 2,
   "id": "c0289ef5",
   "metadata": {},
   "outputs": [
    {
     "data": {
      "application/vnd.jupyter.widget-view+json": {
       "model_id": "7d059c1c8ac64170b4b1237c573b73cf",
       "version_major": 2,
       "version_minor": 0
      },
      "text/plain": [
       "ToggleButton(value=False, description='Scanner orbital', icon='bolt', tooltip='Inicia una detección de velocid…"
      ]
     },
     "metadata": {},
     "output_type": "display_data"
    },
    {
     "data": {
      "application/vnd.jupyter.widget-view+json": {
       "model_id": "e876c481442c446ea9b607d972f5c9ee",
       "version_major": 2,
       "version_minor": 0
      },
      "text/plain": [
       "Output(layout=Layout(border='1px solid black'))"
      ]
     },
     "metadata": {},
     "output_type": "display_data"
    }
   ],
   "source": [
    "import ipywidgets as w\n",
    "\n",
    "scannerOrbital = w.ToggleButton(\n",
    "    value=False,\n",
    "    description='Scanner orbital',\n",
    "    button_style='',\n",
    "    tooltip='Inicia una detección de velocidad de asteroides dependiendo de los parámetros insertados',\n",
    "    icon='bolt'\n",
    ")\n",
    "#Añadir el código necesario para crear una variable que guarde la velocidad del asteroide.\n",
    "velocidadAsteroide = 49\n",
    "velocidadLimite = 25\n",
    "\n",
    "\n",
    "mensajeScanner = w.Output(layout=w.Layout(border = '1px solid black'))\n",
    "out = w.Output()\n",
    "\n",
    "def fun(obj):\n",
    "    with mensajeScanner:\n",
    "        if obj['new']:\n",
    "            scannerOrbital.button_style='danger'\n",
    "            scannerOrbital.icon='bolt'\n",
    "            scannerOrbital.description='Apagar scanner'\n",
    "            #Agregue las instrucciones que se ejecutarán si la expresión de prueba es true o false.\n",
    "            if(velocidadAsteroide > velocidadLimite):\n",
    "                #Escribe una expresión de prueba para calcular si necesita una advertencia.\n",
    "                print(\"Oh uh... la velocidad de ese asteroide supera la velocidad límite de \" + str(velocidadLimite) + \"km/s por \" + str(velocidadAsteroide - velocidadLimite) + \"km/s ¡CIUDADANOS UN ASTEROIDE SE ACERCA! pero no se preocupen... ¡PREPAREN EL LASER DESTRUCTOR!\")\n",
    "            else:\n",
    "                print(\"Meh... falsa alarma... otro aburrido día en la estación espacial\")\n",
    "        else:\n",
    "            mensajeScanner.clear_output()\n",
    "            scannerOrbital.button_style=''\n",
    "            scannerOrbital.icon='bolt'\n",
    "            scannerOrbital.description='Scanner orbital'\n",
    "            \n",
    "scannerOrbital.observe(fun, 'value')\n",
    "display(scannerOrbital)\n",
    "display(mensajeScanner)\n",
    "\n",
    "\n",
    "\n",
    "\n",
    "\n",
    "\n"
   ]
  },
  {
   "cell_type": "markdown",
   "id": "c2651262",
   "metadata": {},
   "source": [
    "## Destello de luz\n",
    "\n",
    "Si un asteroide entra en la atmósfera de la Tierra a una velocidad mayor o igual a 20 km/s, a veces produce un rayo de luz que se puede ver desde la Tierra. Escribe la lógica condicional que usa declaraciones if, else, y elif para alertar a las personas de todo el mundo que deben buscar un asteroide en el cielo. ¡Hay uno que se dirige a la tierra ahora a una velocidad de 19 km/s!"
   ]
  },
  {
   "cell_type": "code",
   "execution_count": 4,
   "id": "08739b6c",
   "metadata": {},
   "outputs": [
    {
     "data": {
      "application/vnd.jupyter.widget-view+json": {
       "model_id": "887ccd9d39fa4057b6527ecfb7d1266e",
       "version_major": 2,
       "version_minor": 0
      },
      "text/plain": [
       "ToggleButton(value=False, description='Fotodetector', icon='star', tooltip='Inicia una detección de luz depend…"
      ]
     },
     "metadata": {},
     "output_type": "display_data"
    },
    {
     "data": {
      "application/vnd.jupyter.widget-view+json": {
       "model_id": "1ada48da9645485285ad87b209a32118",
       "version_major": 2,
       "version_minor": 0
      },
      "text/plain": [
       "Output(layout=Layout(border='1px solid black'))"
      ]
     },
     "metadata": {},
     "output_type": "display_data"
    }
   ],
   "source": [
    "import ipywidgets as w\n",
    "\n",
    "fotodetector = w.ToggleButton(\n",
    "    value=False,\n",
    "    description='Fotodetector',\n",
    "    button_style='',\n",
    "    tooltip='Inicia una detección de luz dependiendo de la velocidad de un asteroide que entra en contacto con la atmósfera terrestre',\n",
    "    icon='star'\n",
    ")\n",
    "\n",
    "# Agrega el código para crear una variable para un asteroide que viaja a 19 km/s\n",
    "asteroideEnAtmosfera = 19\n",
    "mensaje = w.Output(layout=w.Layout(border = '1px solid black'))\n",
    "output = w.Output()\n",
    "\n",
    "def fun(obj):\n",
    "    with mensaje:\n",
    "        if obj['new']:\n",
    "            fotodetector.button_style='warning'\n",
    "            fotodetector.icon='star'\n",
    "            fotodetector.description='Apagar'\n",
    "            # Escribe varias expresiones de prueba para determinar si puedes ver el rayo de luz desde la tierra\n",
    "            if asteroideEnAtmosfera == 20:\n",
    "                # Agrega las instrucciones que se ejecutarán si las expresiones de prueba son True o False\n",
    "                print(\"Houston detectamos un asteroide con una velocidad de \" + str(asteroideEnAtmosfera) + \"km/s se registrarán avistamientos de luz en el cielo causadas por este asteroide\")\n",
    "            # Escribe varias expresiones de prueba para determinar si puedes ver el rayo de luz desde la tierra\n",
    "            elif asteroideEnAtmosfera > 20:\n",
    "                # Agrega las instrucciones que se ejecutarán si las expresiones de prueba son True o False\n",
    "                print(\"Houston detectamos un asteroide con una velocidad de \" + str(asteroideEnAtmosfera) + \"km/s se registrarán avistamientos de luz en el cielo causadas por este asteroide\")\n",
    "            else:\n",
    "                print(\"Nada que reportar hoy Houston\")\n",
    "        else:\n",
    "            mensaje.clear_output()\n",
    "            fotodetector.button_style=''\n",
    "            fotodetector.icon='star'\n",
    "            fotodetector.description='Fotodetector'\n",
    "            \n",
    "fotodetector.observe(fun, 'value')\n",
    "display(fotodetector)\n",
    "display(mensaje)\n"
   ]
  },
  {
   "cell_type": "markdown",
   "id": "d2ca48a0",
   "metadata": {},
   "source": [
    "## Programa espacial de advertencias por detección de cuerpos celestes\n",
    "Se recibe nueva información de LaunchX, nuestra nueva misión consiste en incluir estos nuevos datos para que nuestro scanner y fotodetector sean utilizados de manera más robusta."
   ]
  },
  {
   "cell_type": "code",
   "execution_count": 29,
   "id": "a0523b32",
   "metadata": {},
   "outputs": [
    {
     "name": "stdout",
     "output_type": "stream",
     "text": [
      "Iniciando protocolo Astralwarn...\n",
      "##############################\n",
      "Ingrese tamaño de asteroide en metros30\n",
      "Usted ha introducido: 30metros\n",
      "Ingrese velocidad de asteroide en km/s30\n",
      "Usted ha introducido: 30km/s\n",
      "Presione enter y el AstralWarn estará listo para iniciar secuencia de advertencia\n"
     ]
    },
    {
     "data": {
      "application/vnd.jupyter.widget-view+json": {
       "model_id": "5fcb9c79a29447c986ff573143e5e199",
       "version_major": 2,
       "version_minor": 0
      },
      "text/plain": [
       "ToggleButton(value=False, description='Iniciar AstralWarn', icon='bolt', tooltip='Inicia secuencias de adverte…"
      ]
     },
     "metadata": {},
     "output_type": "display_data"
    },
    {
     "data": {
      "application/vnd.jupyter.widget-view+json": {
       "model_id": "880e16204ec14b1688a5af9b64903b42",
       "version_major": 2,
       "version_minor": 0
      },
      "text/plain": [
       "Output(layout=Layout(border='1px solid black'))"
      ]
     },
     "metadata": {},
     "output_type": "display_data"
    }
   ],
   "source": [
    "import ipywidgets as w\n",
    "\n",
    "astralWarn = w.ToggleButton(\n",
    "    value=False,\n",
    "    description='Iniciar AstralWarn',\n",
    "    button_style='',\n",
    "    tooltip='Inicia secuencias de advertencia comparando asteroides cercanos a la tierra, clasificándolos por su velocidad y su tamaño',\n",
    "    icon='bolt'\n",
    ")\n",
    "\n",
    "tamañoMaxAsteroide = 1000\n",
    "tamañoMinAsteroide = 25\n",
    "velocidadLimiteAsteroide = 25\n",
    "velocidadLimiteMinLuzAsteroide = 20\n",
    "\n",
    "print(\"Iniciando protocolo Astralwarn...\")\n",
    "print(\"##############################\")\n",
    "tamañoAsteroide = input(\"Ingrese tamaño de asteroide en metros\")\n",
    "print(\"Usted ha introducido: \" + str(tamañoAsteroide) + \"metros\")\n",
    "velocidadAsteroide = input(\"Ingrese velocidad de asteroide en km/s\")\n",
    "print(\"Usted ha introducido: \" + str(velocidadAsteroide) + \"km/s\")\n",
    "print(\"Presione enter y el AstralWarn estará listo para iniciar secuencia de advertencia\")\n",
    "tamañoAsteroide = int(tamañoAsteroide)\n",
    "velocidadAsteroide = int(velocidadAsteroide)\n",
    "mensajeAstralWarn = w.Output(layout=w.Layout(border = '1px solid black'))\n",
    "output = w.Output()\n",
    "\n",
    "def fun(obj):\n",
    "    with mensajeAstralWarn:\n",
    "        if obj['new']:\n",
    "            if tamañoAsteroide <= tamañoMinAsteroide and velocidadAsteroide < velocidadLimiteMinLuzAsteroide:\n",
    "                print(\"El asteroide detectado se consumirá en la atmósfera y no producirá una luz\")\n",
    "            elif tamañoAsteroide > tamañoMinAsteroide and tamañoAsteroide < tamañoMaxAsteroide and velocidadAsteroide >= velocidadLimiteAsteroide:\n",
    "                print(\"ALERTA ROJA ALERTA ROJA! CIUDADANOS DE LA HUMANIDAD! UN ASTEROIDE LETAL DE \" + str(tamañoAsteroide) + \"m CON UNA VELOCIDAD DE \" + str(velocidadAsteroide) + \"km/s SE APROXIMA! SOLO VERAN UNA INTENSA LUZ ANTES DEL FIN DE LA ZONA DE IMPACTO!\")\n",
    "            elif tamañoAsteroide > tamañoMinAsteroide and velocidadAsteroide < velocidadLimiteAsteroide:\n",
    "                print(\"UN ASTEROIDE DE \" + str(tamañoAsteroide) + \"m SE APROXIMA! su baja velocidad de \"+ str(velocidadAsteroide) + \"km/s no emitirá luz alguna...\")\n",
    "            else: \n",
    "                print(\"El asteroide introducido se consumirá en la atmósfera pero producirá una luz\")\n",
    "            astralWarn.button_style='danger'\n",
    "            astralWarn.icon='bolt'\n",
    "            astralWarn.description='Apagar convertidor'\n",
    "        else:\n",
    "            mensajeAstralWarn.clear_output()\n",
    "            astralWarn.button_style=''\n",
    "            astralWarn.icon='bolt'\n",
    "            astralWarn.description='Iniciar convertidor'\n",
    "            \n",
    "astralWarn.observe(fun, 'value')\n",
    "display(astralWarn)\n",
    "display(mensajeAstralWarn)\n",
    "\n",
    "#Escenario 1: Un asteroide de 25m o menos con velocidad inferior a los 20km/s\n",
    "#Escenario 2: Un astoriode de mas de 25m y velocidad superior o igual a 20km/s\n",
    "#Escenario 3: Un asteroide de 25 metros o menos con velocidad superior o igual a 20km/s\n",
    "#Escenario 4: Un asteroide de mas de 25 metros con velocidad inferior a 20km/s"
   ]
  },
  {
   "cell_type": "code",
   "execution_count": null,
   "id": "b575ecdc",
   "metadata": {},
   "outputs": [],
   "source": []
  }
 ],
 "metadata": {
  "kernelspec": {
   "display_name": "Python 3 (ipykernel)",
   "language": "python",
   "name": "python3"
  },
  "language_info": {
   "codemirror_mode": {
    "name": "ipython",
    "version": 3
   },
   "file_extension": ".py",
   "mimetype": "text/x-python",
   "name": "python",
   "nbconvert_exporter": "python",
   "pygments_lexer": "ipython3",
   "version": "3.10.2"
  }
 },
 "nbformat": 4,
 "nbformat_minor": 5
}
